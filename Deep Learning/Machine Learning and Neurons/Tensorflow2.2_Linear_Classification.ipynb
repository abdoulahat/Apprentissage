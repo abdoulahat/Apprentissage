{
  "nbformat": 4,
  "nbformat_minor": 0,
  "metadata": {
    "colab": {
      "name": "Tensorflow2.0 Linear Classification.ipynb",
      "provenance": [],
      "collapsed_sections": [],
      "authorship_tag": "ABX9TyMhqyWmcH0tKcPHu6PxN983",
      "include_colab_link": true
    },
    "kernelspec": {
      "name": "python3",
      "display_name": "Python 3"
    }
  },
  "cells": [
    {
      "cell_type": "markdown",
      "metadata": {
        "id": "view-in-github",
        "colab_type": "text"
      },
      "source": [
        "<a href=\"https://colab.research.google.com/github/abdoulahat/Apprentissage/blob/master/Tensorflow2_0_Linear_Classification.ipynb\" target=\"_parent\"><img src=\"https://colab.research.google.com/assets/colab-badge.svg\" alt=\"Open In Colab\"/></a>"
      ]
    },
    {
      "cell_type": "markdown",
      "metadata": {
        "id": "TGV7a0hIYpg_",
        "colab_type": "text"
      },
      "source": [
        "# **Linear Classification**"
      ]
    },
    {
      "cell_type": "code",
      "metadata": {
        "id": "ufmYR0SQmgi1",
        "colab_type": "code",
        "outputId": "a6d65e54-1a6f-432c-c1cd-b67c787e1aff",
        "colab": {
          "base_uri": "https://localhost:8080/",
          "height": 34
        }
      },
      "source": [
        "import tensorflow as tf\n",
        "print(tf.__version__)"
      ],
      "execution_count": 0,
      "outputs": [
        {
          "output_type": "stream",
          "text": [
            "2.2.0\n"
          ],
          "name": "stdout"
        }
      ]
    },
    {
      "cell_type": "code",
      "metadata": {
        "id": "MQNYs6YNa7cI",
        "colab_type": "code",
        "colab": {}
      },
      "source": [
        "# load in the data\n",
        "from sklearn.datasets import load_breast_cancer"
      ],
      "execution_count": 0,
      "outputs": []
    },
    {
      "cell_type": "code",
      "metadata": {
        "id": "9RJ6gJ2Gp6xQ",
        "colab_type": "code",
        "colab": {}
      },
      "source": [
        "# load the data\n",
        "data = load_breast_cancer()"
      ],
      "execution_count": 0,
      "outputs": []
    },
    {
      "cell_type": "code",
      "metadata": {
        "id": "DQY7xavfreoD",
        "colab_type": "code",
        "outputId": "ea8f7deb-36d1-4691-b8b2-e42cd3995f0f",
        "colab": {
          "base_uri": "https://localhost:8080/",
          "height": 34
        }
      },
      "source": [
        "# check the type of 'data'\n",
        "type(data)"
      ],
      "execution_count": 0,
      "outputs": [
        {
          "output_type": "execute_result",
          "data": {
            "text/plain": [
              "sklearn.utils.Bunch"
            ]
          },
          "metadata": {
            "tags": []
          },
          "execution_count": 37
        }
      ]
    },
    {
      "cell_type": "code",
      "metadata": {
        "id": "rpmEgwoRrjOE",
        "colab_type": "code",
        "outputId": "c64c8817-49f5-4e4d-94be-85ad8f58f150",
        "colab": {
          "base_uri": "https://localhost:8080/",
          "height": 54
        }
      },
      "source": [
        "# note: it is a Bunch object\n",
        "# this basically acts like a dictionary where you can reat the keys like attributes\n",
        "data.keys()"
      ],
      "execution_count": 0,
      "outputs": [
        {
          "output_type": "execute_result",
          "data": {
            "text/plain": [
              "dict_keys(['data', 'target', 'target_names', 'DESCR', 'feature_names', 'filename'])"
            ]
          },
          "metadata": {
            "tags": []
          },
          "execution_count": 38
        }
      ]
    },
    {
      "cell_type": "code",
      "metadata": {
        "id": "DS48mhhOb-6w",
        "colab_type": "code",
        "outputId": "c934d4a9-459c-4edf-be44-4aa6abe89e35",
        "colab": {
          "base_uri": "https://localhost:8080/",
          "height": 34
        }
      },
      "source": [
        "# data (the attribute ) means the input data\n",
        "data.data.shape"
      ],
      "execution_count": 0,
      "outputs": [
        {
          "output_type": "execute_result",
          "data": {
            "text/plain": [
              "(569, 30)"
            ]
          },
          "metadata": {
            "tags": []
          },
          "execution_count": 39
        }
      ]
    },
    {
      "cell_type": "code",
      "metadata": {
        "id": "CnnGWff2eKo9",
        "colab_type": "code",
        "outputId": "104b6e24-8a4f-4ba8-f0d9-2d1a4e794dc1",
        "colab": {
          "base_uri": "https://localhost:8080/",
          "height": 478
        }
      },
      "source": [
        "# targets\n",
        "data.target\n",
        "# note how targets are just 0s et 1s\n",
        "# normally, when you have K targets, the are labeled 0..K-1"
      ],
      "execution_count": 0,
      "outputs": [
        {
          "output_type": "execute_result",
          "data": {
            "text/plain": [
              "array([0, 0, 0, 0, 0, 0, 0, 0, 0, 0, 0, 0, 0, 0, 0, 0, 0, 0, 0, 1, 1, 1,\n",
              "       0, 0, 0, 0, 0, 0, 0, 0, 0, 0, 0, 0, 0, 0, 0, 1, 0, 0, 0, 0, 0, 0,\n",
              "       0, 0, 1, 0, 1, 1, 1, 1, 1, 0, 0, 1, 0, 0, 1, 1, 1, 1, 0, 1, 0, 0,\n",
              "       1, 1, 1, 1, 0, 1, 0, 0, 1, 0, 1, 0, 0, 1, 1, 1, 0, 0, 1, 0, 0, 0,\n",
              "       1, 1, 1, 0, 1, 1, 0, 0, 1, 1, 1, 0, 0, 1, 1, 1, 1, 0, 1, 1, 0, 1,\n",
              "       1, 1, 1, 1, 1, 1, 1, 0, 0, 0, 1, 0, 0, 1, 1, 1, 0, 0, 1, 0, 1, 0,\n",
              "       0, 1, 0, 0, 1, 1, 0, 1, 1, 0, 1, 1, 1, 1, 0, 1, 1, 1, 1, 1, 1, 1,\n",
              "       1, 1, 0, 1, 1, 1, 1, 0, 0, 1, 0, 1, 1, 0, 0, 1, 1, 0, 0, 1, 1, 1,\n",
              "       1, 0, 1, 1, 0, 0, 0, 1, 0, 1, 0, 1, 1, 1, 0, 1, 1, 0, 0, 1, 0, 0,\n",
              "       0, 0, 1, 0, 0, 0, 1, 0, 1, 0, 1, 1, 0, 1, 0, 0, 0, 0, 1, 1, 0, 0,\n",
              "       1, 1, 1, 0, 1, 1, 1, 1, 1, 0, 0, 1, 1, 0, 1, 1, 0, 0, 1, 0, 1, 1,\n",
              "       1, 1, 0, 1, 1, 1, 1, 1, 0, 1, 0, 0, 0, 0, 0, 0, 0, 0, 0, 0, 0, 0,\n",
              "       0, 0, 1, 1, 1, 1, 1, 1, 0, 1, 0, 1, 1, 0, 1, 1, 0, 1, 0, 0, 1, 1,\n",
              "       1, 1, 1, 1, 1, 1, 1, 1, 1, 1, 1, 0, 1, 1, 0, 1, 0, 1, 1, 1, 1, 1,\n",
              "       1, 1, 1, 1, 1, 1, 1, 1, 1, 0, 1, 1, 1, 0, 1, 0, 1, 1, 1, 1, 0, 0,\n",
              "       0, 1, 1, 1, 1, 0, 1, 0, 1, 0, 1, 1, 1, 0, 1, 1, 1, 1, 1, 1, 1, 0,\n",
              "       0, 0, 1, 1, 1, 1, 1, 1, 1, 1, 1, 1, 1, 0, 0, 1, 0, 0, 0, 1, 0, 0,\n",
              "       1, 1, 1, 1, 1, 0, 1, 1, 1, 1, 1, 0, 1, 1, 1, 0, 1, 1, 0, 0, 1, 1,\n",
              "       1, 1, 1, 1, 0, 1, 1, 1, 1, 1, 1, 1, 0, 1, 1, 1, 1, 1, 0, 1, 1, 0,\n",
              "       1, 1, 1, 1, 1, 1, 1, 1, 1, 1, 1, 1, 0, 1, 0, 0, 1, 0, 1, 1, 1, 1,\n",
              "       1, 0, 1, 1, 0, 1, 0, 1, 1, 0, 1, 0, 1, 1, 1, 1, 1, 1, 1, 1, 0, 0,\n",
              "       1, 1, 1, 1, 1, 1, 0, 1, 1, 1, 1, 1, 1, 1, 1, 1, 1, 0, 1, 1, 1, 1,\n",
              "       1, 1, 1, 0, 1, 0, 1, 1, 0, 1, 1, 1, 1, 1, 0, 0, 1, 0, 1, 0, 1, 1,\n",
              "       1, 1, 1, 0, 1, 1, 0, 1, 0, 1, 0, 0, 1, 1, 1, 0, 1, 1, 1, 1, 1, 1,\n",
              "       1, 1, 1, 1, 1, 0, 1, 0, 0, 1, 1, 1, 1, 1, 1, 1, 1, 1, 1, 1, 1, 1,\n",
              "       1, 1, 1, 1, 1, 1, 1, 1, 1, 1, 1, 1, 0, 0, 0, 0, 0, 0, 1])"
            ]
          },
          "metadata": {
            "tags": []
          },
          "execution_count": 40
        }
      ]
    },
    {
      "cell_type": "code",
      "metadata": {
        "id": "IJ6pRloqeLEH",
        "colab_type": "code",
        "outputId": "64783402-d171-4912-ed13-40516f39a916",
        "colab": {
          "base_uri": "https://localhost:8080/",
          "height": 34
        }
      },
      "source": [
        "# there are also 569 corresponding targets\n",
        "data.target.shape"
      ],
      "execution_count": 0,
      "outputs": [
        {
          "output_type": "execute_result",
          "data": {
            "text/plain": [
              "(569,)"
            ]
          },
          "metadata": {
            "tags": []
          },
          "execution_count": 41
        }
      ]
    },
    {
      "cell_type": "code",
      "metadata": {
        "id": "Iwtxwn0f6xVv",
        "colab_type": "code",
        "outputId": "2a0e83cc-c594-4afd-832a-cebc44307531",
        "colab": {
          "base_uri": "https://localhost:8080/",
          "height": 194
        }
      },
      "source": [
        "# you can also determine the meaning of each feature\n",
        "data.feature_names"
      ],
      "execution_count": 0,
      "outputs": [
        {
          "output_type": "execute_result",
          "data": {
            "text/plain": [
              "array(['mean radius', 'mean texture', 'mean perimeter', 'mean area',\n",
              "       'mean smoothness', 'mean compactness', 'mean concavity',\n",
              "       'mean concave points', 'mean symmetry', 'mean fractal dimension',\n",
              "       'radius error', 'texture error', 'perimeter error', 'area error',\n",
              "       'smoothness error', 'compactness error', 'concavity error',\n",
              "       'concave points error', 'symmetry error',\n",
              "       'fractal dimension error', 'worst radius', 'worst texture',\n",
              "       'worst perimeter', 'worst area', 'worst smoothness',\n",
              "       'worst compactness', 'worst concavity', 'worst concave points',\n",
              "       'worst symmetry', 'worst fractal dimension'], dtype='<U23')"
            ]
          },
          "metadata": {
            "tags": []
          },
          "execution_count": 42
        }
      ]
    },
    {
      "cell_type": "code",
      "metadata": {
        "id": "X4Htk7Lb7DOf",
        "colab_type": "code",
        "colab": {}
      },
      "source": [
        "# normaly we would put all of our imports at the top\n",
        "# but this lets us tell a story\n",
        "from sklearn.model_selection import train_test_split\n",
        "\n",
        "# split the data into train and test sets\n",
        "# this lets us simulate our model will perform in the future\n",
        "X_train, X_test, y_train, y_test = train_test_split(data.data, data.target, test_size=0.33)\n",
        "N, D = X_train.shape"
      ],
      "execution_count": 0,
      "outputs": []
    },
    {
      "cell_type": "code",
      "metadata": {
        "id": "9P5tN_k_8As0",
        "colab_type": "code",
        "colab": {}
      },
      "source": [
        "# Scale the data \n",
        "# you'll lear why scalling in needed in a course\n",
        "from sklearn.preprocessing import StandardScaler\n",
        "\n",
        "scaler = StandardScaler()\n",
        "X_train = scaler.fit_transform(X_train)\n",
        "X_test = scaler.transform(X_test)"
      ],
      "execution_count": 0,
      "outputs": []
    },
    {
      "cell_type": "code",
      "metadata": {
        "id": "N694C1mC8PGy",
        "colab_type": "code",
        "outputId": "0d6b713c-35aa-4e4f-af3a-c754258213f0",
        "colab": {
          "base_uri": "https://localhost:8080/",
          "height": 1000
        }
      },
      "source": [
        "# Now all the fun Tensorflow stuff\n",
        "# Build the model\n",
        "\n",
        "model = tf.keras.models.Sequential([\n",
        "    tf.keras.layers.Input(shape=(D,)), \n",
        "    tf.keras.layers.Dense(1, activation='sigmoid')\n",
        "])\n",
        "\n",
        "# Alternatively, you can do: \n",
        "# model = tf.keras.models.Sequential()\n",
        "# model.add(tf.keras.layers.Dense(1, input_size=(D,), activation='sigmoid')\n",
        "\n",
        "model.compile(optimizer='adam', \n",
        "              loss='binary_crossentropy',\n",
        "              metrics=['accuracy'])\n",
        "\n",
        "# Train the model\n",
        "r = model.fit(X_train, y_train, validation_data=(X_test, y_test), epochs = 100)\n",
        "\n",
        "# Evaluate the model - evalute() return loss and accuray\n",
        "print('Train score:', model.evaluate(X_train, y_train))\n",
        "print('Test score:', model.evaluate(X_test, y_test))"
      ],
      "execution_count": 0,
      "outputs": [
        {
          "output_type": "stream",
          "text": [
            "Epoch 1/100\n",
            "12/12 [==============================] - 0s 15ms/step - loss: 1.1068 - accuracy: 0.1470 - val_loss: 1.0154 - val_accuracy: 0.2234\n",
            "Epoch 2/100\n",
            "12/12 [==============================] - 0s 4ms/step - loss: 0.9983 - accuracy: 0.1864 - val_loss: 0.9242 - val_accuracy: 0.2553\n",
            "Epoch 3/100\n",
            "12/12 [==============================] - 0s 4ms/step - loss: 0.9013 - accuracy: 0.2598 - val_loss: 0.8417 - val_accuracy: 0.3457\n",
            "Epoch 4/100\n",
            "12/12 [==============================] - 0s 4ms/step - loss: 0.8144 - accuracy: 0.3596 - val_loss: 0.7696 - val_accuracy: 0.4362\n",
            "Epoch 5/100\n",
            "12/12 [==============================] - 0s 4ms/step - loss: 0.7396 - accuracy: 0.4829 - val_loss: 0.7062 - val_accuracy: 0.5266\n",
            "Epoch 6/100\n",
            "12/12 [==============================] - 0s 4ms/step - loss: 0.6739 - accuracy: 0.6142 - val_loss: 0.6518 - val_accuracy: 0.6277\n",
            "Epoch 7/100\n",
            "12/12 [==============================] - 0s 4ms/step - loss: 0.6190 - accuracy: 0.6955 - val_loss: 0.6038 - val_accuracy: 0.7021\n",
            "Epoch 8/100\n",
            "12/12 [==============================] - 0s 4ms/step - loss: 0.5705 - accuracy: 0.7638 - val_loss: 0.5629 - val_accuracy: 0.7553\n",
            "Epoch 9/100\n",
            "12/12 [==============================] - 0s 4ms/step - loss: 0.5298 - accuracy: 0.7979 - val_loss: 0.5265 - val_accuracy: 0.7979\n",
            "Epoch 10/100\n",
            "12/12 [==============================] - 0s 4ms/step - loss: 0.4940 - accuracy: 0.8268 - val_loss: 0.4949 - val_accuracy: 0.8245\n",
            "Epoch 11/100\n",
            "12/12 [==============================] - 0s 4ms/step - loss: 0.4634 - accuracy: 0.8504 - val_loss: 0.4669 - val_accuracy: 0.8670\n",
            "Epoch 12/100\n",
            "12/12 [==============================] - 0s 4ms/step - loss: 0.4360 - accuracy: 0.8688 - val_loss: 0.4422 - val_accuracy: 0.8777\n",
            "Epoch 13/100\n",
            "12/12 [==============================] - 0s 4ms/step - loss: 0.4125 - accuracy: 0.8740 - val_loss: 0.4200 - val_accuracy: 0.8936\n",
            "Epoch 14/100\n",
            "12/12 [==============================] - 0s 4ms/step - loss: 0.3910 - accuracy: 0.8871 - val_loss: 0.4007 - val_accuracy: 0.8989\n",
            "Epoch 15/100\n",
            "12/12 [==============================] - 0s 4ms/step - loss: 0.3723 - accuracy: 0.9055 - val_loss: 0.3831 - val_accuracy: 0.9149\n",
            "Epoch 16/100\n",
            "12/12 [==============================] - 0s 5ms/step - loss: 0.3555 - accuracy: 0.9134 - val_loss: 0.3672 - val_accuracy: 0.9149\n",
            "Epoch 17/100\n",
            "12/12 [==============================] - 0s 4ms/step - loss: 0.3404 - accuracy: 0.9239 - val_loss: 0.3526 - val_accuracy: 0.9202\n",
            "Epoch 18/100\n",
            "12/12 [==============================] - 0s 4ms/step - loss: 0.3265 - accuracy: 0.9265 - val_loss: 0.3396 - val_accuracy: 0.9202\n",
            "Epoch 19/100\n",
            "12/12 [==============================] - 0s 4ms/step - loss: 0.3141 - accuracy: 0.9265 - val_loss: 0.3276 - val_accuracy: 0.9202\n",
            "Epoch 20/100\n",
            "12/12 [==============================] - 0s 4ms/step - loss: 0.3027 - accuracy: 0.9291 - val_loss: 0.3165 - val_accuracy: 0.9202\n",
            "Epoch 21/100\n",
            "12/12 [==============================] - 0s 5ms/step - loss: 0.2923 - accuracy: 0.9291 - val_loss: 0.3063 - val_accuracy: 0.9202\n",
            "Epoch 22/100\n",
            "12/12 [==============================] - 0s 5ms/step - loss: 0.2825 - accuracy: 0.9318 - val_loss: 0.2970 - val_accuracy: 0.9255\n",
            "Epoch 23/100\n",
            "12/12 [==============================] - 0s 4ms/step - loss: 0.2736 - accuracy: 0.9370 - val_loss: 0.2886 - val_accuracy: 0.9255\n",
            "Epoch 24/100\n",
            "12/12 [==============================] - 0s 4ms/step - loss: 0.2656 - accuracy: 0.9370 - val_loss: 0.2805 - val_accuracy: 0.9309\n",
            "Epoch 25/100\n",
            "12/12 [==============================] - 0s 4ms/step - loss: 0.2579 - accuracy: 0.9370 - val_loss: 0.2732 - val_accuracy: 0.9309\n",
            "Epoch 26/100\n",
            "12/12 [==============================] - 0s 4ms/step - loss: 0.2508 - accuracy: 0.9344 - val_loss: 0.2663 - val_accuracy: 0.9309\n",
            "Epoch 27/100\n",
            "12/12 [==============================] - 0s 4ms/step - loss: 0.2442 - accuracy: 0.9396 - val_loss: 0.2598 - val_accuracy: 0.9309\n",
            "Epoch 28/100\n",
            "12/12 [==============================] - 0s 4ms/step - loss: 0.2380 - accuracy: 0.9396 - val_loss: 0.2538 - val_accuracy: 0.9309\n",
            "Epoch 29/100\n",
            "12/12 [==============================] - 0s 4ms/step - loss: 0.2322 - accuracy: 0.9423 - val_loss: 0.2482 - val_accuracy: 0.9309\n",
            "Epoch 30/100\n",
            "12/12 [==============================] - 0s 4ms/step - loss: 0.2267 - accuracy: 0.9423 - val_loss: 0.2430 - val_accuracy: 0.9362\n",
            "Epoch 31/100\n",
            "12/12 [==============================] - 0s 5ms/step - loss: 0.2216 - accuracy: 0.9423 - val_loss: 0.2379 - val_accuracy: 0.9362\n",
            "Epoch 32/100\n",
            "12/12 [==============================] - 0s 4ms/step - loss: 0.2169 - accuracy: 0.9423 - val_loss: 0.2331 - val_accuracy: 0.9362\n",
            "Epoch 33/100\n",
            "12/12 [==============================] - 0s 4ms/step - loss: 0.2122 - accuracy: 0.9423 - val_loss: 0.2287 - val_accuracy: 0.9362\n",
            "Epoch 34/100\n",
            "12/12 [==============================] - 0s 4ms/step - loss: 0.2079 - accuracy: 0.9423 - val_loss: 0.2245 - val_accuracy: 0.9362\n",
            "Epoch 35/100\n",
            "12/12 [==============================] - 0s 4ms/step - loss: 0.2038 - accuracy: 0.9449 - val_loss: 0.2205 - val_accuracy: 0.9362\n",
            "Epoch 36/100\n",
            "12/12 [==============================] - 0s 4ms/step - loss: 0.2000 - accuracy: 0.9449 - val_loss: 0.2167 - val_accuracy: 0.9362\n",
            "Epoch 37/100\n",
            "12/12 [==============================] - 0s 4ms/step - loss: 0.1962 - accuracy: 0.9449 - val_loss: 0.2132 - val_accuracy: 0.9362\n",
            "Epoch 38/100\n",
            "12/12 [==============================] - 0s 4ms/step - loss: 0.1927 - accuracy: 0.9449 - val_loss: 0.2097 - val_accuracy: 0.9415\n",
            "Epoch 39/100\n",
            "12/12 [==============================] - 0s 5ms/step - loss: 0.1893 - accuracy: 0.9449 - val_loss: 0.2064 - val_accuracy: 0.9415\n",
            "Epoch 40/100\n",
            "12/12 [==============================] - 0s 4ms/step - loss: 0.1861 - accuracy: 0.9449 - val_loss: 0.2033 - val_accuracy: 0.9415\n",
            "Epoch 41/100\n",
            "12/12 [==============================] - 0s 4ms/step - loss: 0.1830 - accuracy: 0.9449 - val_loss: 0.2003 - val_accuracy: 0.9415\n",
            "Epoch 42/100\n",
            "12/12 [==============================] - 0s 4ms/step - loss: 0.1801 - accuracy: 0.9475 - val_loss: 0.1976 - val_accuracy: 0.9415\n",
            "Epoch 43/100\n",
            "12/12 [==============================] - 0s 4ms/step - loss: 0.1772 - accuracy: 0.9475 - val_loss: 0.1948 - val_accuracy: 0.9415\n",
            "Epoch 44/100\n",
            "12/12 [==============================] - 0s 4ms/step - loss: 0.1745 - accuracy: 0.9475 - val_loss: 0.1922 - val_accuracy: 0.9415\n",
            "Epoch 45/100\n",
            "12/12 [==============================] - 0s 4ms/step - loss: 0.1720 - accuracy: 0.9475 - val_loss: 0.1897 - val_accuracy: 0.9468\n",
            "Epoch 46/100\n",
            "12/12 [==============================] - 0s 4ms/step - loss: 0.1694 - accuracy: 0.9475 - val_loss: 0.1873 - val_accuracy: 0.9468\n",
            "Epoch 47/100\n",
            "12/12 [==============================] - 0s 4ms/step - loss: 0.1671 - accuracy: 0.9475 - val_loss: 0.1850 - val_accuracy: 0.9521\n",
            "Epoch 48/100\n",
            "12/12 [==============================] - 0s 4ms/step - loss: 0.1647 - accuracy: 0.9501 - val_loss: 0.1828 - val_accuracy: 0.9521\n",
            "Epoch 49/100\n",
            "12/12 [==============================] - 0s 5ms/step - loss: 0.1625 - accuracy: 0.9528 - val_loss: 0.1806 - val_accuracy: 0.9574\n",
            "Epoch 50/100\n",
            "12/12 [==============================] - 0s 4ms/step - loss: 0.1604 - accuracy: 0.9528 - val_loss: 0.1786 - val_accuracy: 0.9574\n",
            "Epoch 51/100\n",
            "12/12 [==============================] - 0s 4ms/step - loss: 0.1583 - accuracy: 0.9528 - val_loss: 0.1766 - val_accuracy: 0.9574\n",
            "Epoch 52/100\n",
            "12/12 [==============================] - 0s 4ms/step - loss: 0.1563 - accuracy: 0.9554 - val_loss: 0.1747 - val_accuracy: 0.9574\n",
            "Epoch 53/100\n",
            "12/12 [==============================] - 0s 4ms/step - loss: 0.1543 - accuracy: 0.9554 - val_loss: 0.1729 - val_accuracy: 0.9574\n",
            "Epoch 54/100\n",
            "12/12 [==============================] - 0s 4ms/step - loss: 0.1524 - accuracy: 0.9554 - val_loss: 0.1711 - val_accuracy: 0.9574\n",
            "Epoch 55/100\n",
            "12/12 [==============================] - 0s 4ms/step - loss: 0.1506 - accuracy: 0.9554 - val_loss: 0.1694 - val_accuracy: 0.9574\n",
            "Epoch 56/100\n",
            "12/12 [==============================] - 0s 4ms/step - loss: 0.1489 - accuracy: 0.9554 - val_loss: 0.1678 - val_accuracy: 0.9574\n",
            "Epoch 57/100\n",
            "12/12 [==============================] - 0s 4ms/step - loss: 0.1472 - accuracy: 0.9554 - val_loss: 0.1661 - val_accuracy: 0.9574\n",
            "Epoch 58/100\n",
            "12/12 [==============================] - 0s 5ms/step - loss: 0.1455 - accuracy: 0.9554 - val_loss: 0.1646 - val_accuracy: 0.9574\n",
            "Epoch 59/100\n",
            "12/12 [==============================] - 0s 4ms/step - loss: 0.1439 - accuracy: 0.9554 - val_loss: 0.1631 - val_accuracy: 0.9574\n",
            "Epoch 60/100\n",
            "12/12 [==============================] - 0s 4ms/step - loss: 0.1424 - accuracy: 0.9554 - val_loss: 0.1617 - val_accuracy: 0.9574\n",
            "Epoch 61/100\n",
            "12/12 [==============================] - 0s 4ms/step - loss: 0.1408 - accuracy: 0.9554 - val_loss: 0.1602 - val_accuracy: 0.9574\n",
            "Epoch 62/100\n",
            "12/12 [==============================] - 0s 4ms/step - loss: 0.1393 - accuracy: 0.9606 - val_loss: 0.1589 - val_accuracy: 0.9574\n",
            "Epoch 63/100\n",
            "12/12 [==============================] - 0s 4ms/step - loss: 0.1380 - accuracy: 0.9580 - val_loss: 0.1576 - val_accuracy: 0.9574\n",
            "Epoch 64/100\n",
            "12/12 [==============================] - 0s 4ms/step - loss: 0.1366 - accuracy: 0.9606 - val_loss: 0.1563 - val_accuracy: 0.9574\n",
            "Epoch 65/100\n",
            "12/12 [==============================] - 0s 4ms/step - loss: 0.1352 - accuracy: 0.9633 - val_loss: 0.1551 - val_accuracy: 0.9574\n",
            "Epoch 66/100\n",
            "12/12 [==============================] - 0s 4ms/step - loss: 0.1339 - accuracy: 0.9633 - val_loss: 0.1538 - val_accuracy: 0.9574\n",
            "Epoch 67/100\n",
            "12/12 [==============================] - 0s 5ms/step - loss: 0.1327 - accuracy: 0.9633 - val_loss: 0.1526 - val_accuracy: 0.9574\n",
            "Epoch 68/100\n",
            "12/12 [==============================] - 0s 4ms/step - loss: 0.1313 - accuracy: 0.9633 - val_loss: 0.1515 - val_accuracy: 0.9574\n",
            "Epoch 69/100\n",
            "12/12 [==============================] - 0s 4ms/step - loss: 0.1301 - accuracy: 0.9633 - val_loss: 0.1504 - val_accuracy: 0.9574\n",
            "Epoch 70/100\n",
            "12/12 [==============================] - 0s 4ms/step - loss: 0.1289 - accuracy: 0.9659 - val_loss: 0.1493 - val_accuracy: 0.9574\n",
            "Epoch 71/100\n",
            "12/12 [==============================] - 0s 4ms/step - loss: 0.1278 - accuracy: 0.9659 - val_loss: 0.1483 - val_accuracy: 0.9574\n",
            "Epoch 72/100\n",
            "12/12 [==============================] - 0s 4ms/step - loss: 0.1266 - accuracy: 0.9659 - val_loss: 0.1473 - val_accuracy: 0.9574\n",
            "Epoch 73/100\n",
            "12/12 [==============================] - 0s 4ms/step - loss: 0.1255 - accuracy: 0.9659 - val_loss: 0.1462 - val_accuracy: 0.9574\n",
            "Epoch 74/100\n",
            "12/12 [==============================] - 0s 4ms/step - loss: 0.1244 - accuracy: 0.9659 - val_loss: 0.1453 - val_accuracy: 0.9574\n",
            "Epoch 75/100\n",
            "12/12 [==============================] - 0s 4ms/step - loss: 0.1234 - accuracy: 0.9685 - val_loss: 0.1443 - val_accuracy: 0.9628\n",
            "Epoch 76/100\n",
            "12/12 [==============================] - 0s 5ms/step - loss: 0.1224 - accuracy: 0.9685 - val_loss: 0.1434 - val_accuracy: 0.9628\n",
            "Epoch 77/100\n",
            "12/12 [==============================] - 0s 4ms/step - loss: 0.1213 - accuracy: 0.9685 - val_loss: 0.1424 - val_accuracy: 0.9628\n",
            "Epoch 78/100\n",
            "12/12 [==============================] - 0s 4ms/step - loss: 0.1203 - accuracy: 0.9685 - val_loss: 0.1416 - val_accuracy: 0.9628\n",
            "Epoch 79/100\n",
            "12/12 [==============================] - 0s 4ms/step - loss: 0.1194 - accuracy: 0.9685 - val_loss: 0.1408 - val_accuracy: 0.9628\n",
            "Epoch 80/100\n",
            "12/12 [==============================] - 0s 4ms/step - loss: 0.1184 - accuracy: 0.9685 - val_loss: 0.1399 - val_accuracy: 0.9628\n",
            "Epoch 81/100\n",
            "12/12 [==============================] - 0s 4ms/step - loss: 0.1175 - accuracy: 0.9685 - val_loss: 0.1391 - val_accuracy: 0.9628\n",
            "Epoch 82/100\n",
            "12/12 [==============================] - 0s 4ms/step - loss: 0.1166 - accuracy: 0.9685 - val_loss: 0.1383 - val_accuracy: 0.9628\n",
            "Epoch 83/100\n",
            "12/12 [==============================] - 0s 4ms/step - loss: 0.1157 - accuracy: 0.9685 - val_loss: 0.1375 - val_accuracy: 0.9628\n",
            "Epoch 84/100\n",
            "12/12 [==============================] - 0s 4ms/step - loss: 0.1148 - accuracy: 0.9685 - val_loss: 0.1367 - val_accuracy: 0.9628\n",
            "Epoch 85/100\n",
            "12/12 [==============================] - 0s 4ms/step - loss: 0.1140 - accuracy: 0.9685 - val_loss: 0.1360 - val_accuracy: 0.9628\n",
            "Epoch 86/100\n",
            "12/12 [==============================] - 0s 4ms/step - loss: 0.1131 - accuracy: 0.9685 - val_loss: 0.1353 - val_accuracy: 0.9628\n",
            "Epoch 87/100\n",
            "12/12 [==============================] - 0s 4ms/step - loss: 0.1123 - accuracy: 0.9685 - val_loss: 0.1346 - val_accuracy: 0.9628\n",
            "Epoch 88/100\n",
            "12/12 [==============================] - 0s 4ms/step - loss: 0.1115 - accuracy: 0.9685 - val_loss: 0.1339 - val_accuracy: 0.9628\n",
            "Epoch 89/100\n",
            "12/12 [==============================] - 0s 4ms/step - loss: 0.1107 - accuracy: 0.9711 - val_loss: 0.1332 - val_accuracy: 0.9628\n",
            "Epoch 90/100\n",
            "12/12 [==============================] - 0s 4ms/step - loss: 0.1100 - accuracy: 0.9738 - val_loss: 0.1325 - val_accuracy: 0.9628\n",
            "Epoch 91/100\n",
            "12/12 [==============================] - 0s 4ms/step - loss: 0.1092 - accuracy: 0.9738 - val_loss: 0.1318 - val_accuracy: 0.9628\n",
            "Epoch 92/100\n",
            "12/12 [==============================] - 0s 4ms/step - loss: 0.1084 - accuracy: 0.9738 - val_loss: 0.1312 - val_accuracy: 0.9628\n",
            "Epoch 93/100\n",
            "12/12 [==============================] - 0s 4ms/step - loss: 0.1077 - accuracy: 0.9738 - val_loss: 0.1306 - val_accuracy: 0.9628\n",
            "Epoch 94/100\n",
            "12/12 [==============================] - 0s 4ms/step - loss: 0.1070 - accuracy: 0.9738 - val_loss: 0.1301 - val_accuracy: 0.9628\n",
            "Epoch 95/100\n",
            "12/12 [==============================] - 0s 5ms/step - loss: 0.1063 - accuracy: 0.9738 - val_loss: 0.1294 - val_accuracy: 0.9628\n",
            "Epoch 96/100\n",
            "12/12 [==============================] - 0s 4ms/step - loss: 0.1056 - accuracy: 0.9764 - val_loss: 0.1289 - val_accuracy: 0.9628\n",
            "Epoch 97/100\n",
            "12/12 [==============================] - 0s 4ms/step - loss: 0.1049 - accuracy: 0.9764 - val_loss: 0.1283 - val_accuracy: 0.9628\n",
            "Epoch 98/100\n",
            "12/12 [==============================] - 0s 4ms/step - loss: 0.1042 - accuracy: 0.9764 - val_loss: 0.1277 - val_accuracy: 0.9628\n",
            "Epoch 99/100\n",
            "12/12 [==============================] - 0s 4ms/step - loss: 0.1035 - accuracy: 0.9764 - val_loss: 0.1271 - val_accuracy: 0.9628\n",
            "Epoch 100/100\n",
            "12/12 [==============================] - 0s 4ms/step - loss: 0.1029 - accuracy: 0.9764 - val_loss: 0.1266 - val_accuracy: 0.9628\n",
            "12/12 [==============================] - 0s 1ms/step - loss: 0.1025 - accuracy: 0.9764\n",
            "Train score: [0.1025201678276062, 0.9763779640197754]\n",
            "6/6 [==============================] - 0s 2ms/step - loss: 0.1266 - accuracy: 0.9628\n",
            "Test score: [0.1265822947025299, 0.9627659320831299]\n"
          ],
          "name": "stdout"
        }
      ]
    },
    {
      "cell_type": "code",
      "metadata": {
        "id": "BL9HOLLQ9b7m",
        "colab_type": "code",
        "outputId": "786c0c34-d3c9-43fa-f4d6-737704d60e18",
        "colab": {
          "base_uri": "https://localhost:8080/",
          "height": 282
        }
      },
      "source": [
        "# plot what's returnes by model.fit()\n",
        "import matplotlib.pyplot as plt\n",
        "plt.plot(r.history['loss'], label='loss')\n",
        "plt.plot(r.history['val_loss'], label='val_loss')\n",
        "plt.legend()"
      ],
      "execution_count": 0,
      "outputs": [
        {
          "output_type": "execute_result",
          "data": {
            "text/plain": [
              "<matplotlib.legend.Legend at 0x7fc9ca756a20>"
            ]
          },
          "metadata": {
            "tags": []
          },
          "execution_count": 46
        },
        {
          "output_type": "display_data",
          "data": {
            "image/png": "[encoded data removed]",
            "text/plain": [
              "<Figure size 432x288 with 1 Axes>"
            ]
          },
          "metadata": {
            "tags": [],
            "needs_background": "light"
          }
        }
      ]
    },
    {
      "cell_type": "code",
      "metadata": {
        "id": "7B9M7UcpAfOX",
        "colab_type": "code",
        "outputId": "2a11ade9-efd4-4150-c813-05506479bf83",
        "colab": {
          "base_uri": "https://localhost:8080/",
          "height": 282
        }
      },
      "source": [
        "# plot the accuracy too\n",
        "plt.plot(r.history['accuracy'], label='acc')\n",
        "plt.plot(r.history['val_accuracy'], label='vaal_acc')\n",
        "plt.legend()"
      ],
      "execution_count": 0,
      "outputs": [
        {
          "output_type": "execute_result",
          "data": {
            "text/plain": [
              "<matplotlib.legend.Legend at 0x7fc9ca972278>"
            ]
          },
          "metadata": {
            "tags": []
          },
          "execution_count": 47
        },
        {
          "output_type": "display_data",
          "data": {
            "image/png": "[encoded data removed]",
            "text/plain": [
              "<Figure size 432x288 with 1 Axes>"
            ]
          },
          "metadata": {
            "tags": [],
            "needs_background": "light"
          }
        }
      ]
    },
    {
      "cell_type": "code",
      "metadata": {
        "id": "mGlxGhZMxl7m",
        "colab_type": "code",
        "outputId": "a7c946ab-fa34-4d63-9327-74b57f370f3e",
        "colab": {
          "base_uri": "https://localhost:8080/",
          "height": 1000
        }
      },
      "source": [
        "# Make predictions\n",
        "p = model.predict(X_test)\n",
        "print(p) # they are outputs of the sigmoid, interpreted as probabilities p(y = 1|X)"
      ],
      "execution_count": 0,
      "outputs": [
        {
          "output_type": "stream",
          "text": [
            "[[9.42119062e-01]\n",
            " [9.61014271e-01]\n",
            " [3.52578759e-02]\n",
            " [7.12409317e-02]\n",
            " [9.71992254e-01]\n",
            " [9.93638694e-01]\n",
            " [9.90925670e-01]\n",
            " [8.23318839e-01]\n",
            " [1.67105108e-01]\n",
            " [9.86524820e-01]\n",
            " [4.48197126e-03]\n",
            " [9.94459450e-01]\n",
            " [8.65232944e-03]\n",
            " [6.68399096e-01]\n",
            " [1.95508301e-02]\n",
            " [4.18762088e-01]\n",
            " [9.92699862e-01]\n",
            " [9.64424849e-01]\n",
            " [3.09514105e-02]\n",
            " [9.96863365e-01]\n",
            " [9.85136509e-01]\n",
            " [7.99453497e-01]\n",
            " [9.79135454e-01]\n",
            " [6.15050614e-01]\n",
            " [4.21941280e-04]\n",
            " [2.63490975e-02]\n",
            " [2.10111216e-06]\n",
            " [9.07591105e-01]\n",
            " [9.52420473e-01]\n",
            " [9.55579638e-01]\n",
            " [9.95259941e-01]\n",
            " [5.20784199e-01]\n",
            " [5.07068634e-03]\n",
            " [9.96708274e-01]\n",
            " [9.17047560e-01]\n",
            " [2.37871706e-02]\n",
            " [9.96435881e-01]\n",
            " [9.74163711e-01]\n",
            " [8.67515802e-04]\n",
            " [9.53945160e-01]\n",
            " [9.49553847e-01]\n",
            " [9.97052491e-01]\n",
            " [7.97708035e-01]\n",
            " [1.01768970e-03]\n",
            " [3.83549929e-03]\n",
            " [3.80632281e-03]\n",
            " [9.73638058e-01]\n",
            " [7.31080770e-04]\n",
            " [9.05748725e-01]\n",
            " [8.78281176e-01]\n",
            " [5.14236689e-02]\n",
            " [9.68573749e-01]\n",
            " [8.05324316e-03]\n",
            " [9.95732188e-01]\n",
            " [9.98137236e-01]\n",
            " [1.34534508e-01]\n",
            " [9.82684851e-01]\n",
            " [9.79862154e-01]\n",
            " [9.60709870e-01]\n",
            " [8.09620619e-01]\n",
            " [9.92866635e-01]\n",
            " [9.80232120e-01]\n",
            " [7.27512538e-01]\n",
            " [9.85375345e-01]\n",
            " [9.31579471e-01]\n",
            " [1.24898553e-03]\n",
            " [9.72787619e-01]\n",
            " [9.95483935e-01]\n",
            " [7.06927240e-01]\n",
            " [9.47175562e-01]\n",
            " [9.37580109e-01]\n",
            " [9.97718692e-01]\n",
            " [4.76914644e-03]\n",
            " [9.68045115e-01]\n",
            " [4.08139199e-01]\n",
            " [9.82060254e-01]\n",
            " [9.25326288e-01]\n",
            " [6.68794453e-01]\n",
            " [9.96252298e-01]\n",
            " [9.61530924e-01]\n",
            " [9.62667465e-01]\n",
            " [9.70937490e-01]\n",
            " [9.02177751e-01]\n",
            " [7.76064456e-01]\n",
            " [8.15397501e-02]\n",
            " [4.15029466e-01]\n",
            " [9.87823129e-01]\n",
            " [9.89942789e-01]\n",
            " [4.61638331e-01]\n",
            " [7.61409342e-01]\n",
            " [9.76287603e-01]\n",
            " [5.83852768e-01]\n",
            " [9.94410396e-01]\n",
            " [9.77512240e-01]\n",
            " [9.97270703e-01]\n",
            " [1.42878294e-03]\n",
            " [4.51803505e-02]\n",
            " [7.28390098e-01]\n",
            " [1.05917126e-01]\n",
            " [9.30629671e-01]\n",
            " [8.75444174e-01]\n",
            " [9.93674695e-01]\n",
            " [9.56162989e-01]\n",
            " [1.85946047e-01]\n",
            " [9.75075662e-01]\n",
            " [9.42287087e-01]\n",
            " [8.04005146e-01]\n",
            " [9.59585428e-01]\n",
            " [9.64826047e-01]\n",
            " [1.17002130e-02]\n",
            " [1.19170755e-01]\n",
            " [9.88883018e-01]\n",
            " [4.95958328e-03]\n",
            " [9.98495579e-01]\n",
            " [1.38444006e-02]\n",
            " [6.62475824e-04]\n",
            " [5.20504545e-06]\n",
            " [9.74427342e-01]\n",
            " [9.98645425e-01]\n",
            " [1.29161388e-01]\n",
            " [6.72962785e-01]\n",
            " [3.36175680e-01]\n",
            " [7.43800938e-01]\n",
            " [2.31071084e-07]\n",
            " [2.49445736e-02]\n",
            " [9.07228947e-01]\n",
            " [8.34631205e-01]\n",
            " [9.91205752e-01]\n",
            " [9.91132736e-01]\n",
            " [9.72084045e-01]\n",
            " [2.32936412e-01]\n",
            " [6.17206097e-04]\n",
            " [1.75476074e-02]\n",
            " [3.76617908e-03]\n",
            " [8.66010129e-01]\n",
            " [9.24812675e-01]\n",
            " [8.13951612e-01]\n",
            " [7.17701912e-01]\n",
            " [1.75130367e-03]\n",
            " [1.60446763e-03]\n",
            " [9.39071834e-01]\n",
            " [8.29399407e-01]\n",
            " [3.21489573e-03]\n",
            " [2.43386626e-03]\n",
            " [9.49942887e-01]\n",
            " [4.70533887e-05]\n",
            " [2.26422846e-02]\n",
            " [9.95708644e-01]\n",
            " [9.74655747e-01]\n",
            " [8.07628036e-03]\n",
            " [9.64701772e-01]\n",
            " [9.98055339e-01]\n",
            " [9.51250672e-01]\n",
            " [1.19680762e-02]\n",
            " [9.97484028e-01]\n",
            " [7.32820988e-01]\n",
            " [5.74563265e-01]\n",
            " [5.19692898e-04]\n",
            " [9.15655971e-01]\n",
            " [1.34337038e-01]\n",
            " [9.68440533e-01]\n",
            " [9.90459442e-01]\n",
            " [9.70308542e-01]\n",
            " [9.97825980e-01]\n",
            " [1.64468408e-01]\n",
            " [9.54818249e-01]\n",
            " [7.69115090e-02]\n",
            " [4.82283235e-02]\n",
            " [1.37701882e-05]\n",
            " [9.83514011e-01]\n",
            " [1.09590292e-02]\n",
            " [3.06381285e-02]\n",
            " [9.69187737e-01]\n",
            " [1.16382390e-01]\n",
            " [9.60566521e-01]\n",
            " [8.83823812e-01]\n",
            " [6.40074849e-01]\n",
            " [9.66320276e-01]\n",
            " [9.97968554e-01]\n",
            " [2.34054625e-02]\n",
            " [9.86517370e-01]\n",
            " [9.71896827e-01]\n",
            " [4.40642238e-03]\n",
            " [4.29919362e-03]\n",
            " [4.44107115e-01]\n",
            " [8.36427212e-01]\n",
            " [9.88806605e-01]\n",
            " [2.06734272e-04]]\n"
          ],
          "name": "stdout"
        }
      ]
    },
    {
      "cell_type": "code",
      "metadata": {
        "id": "xbNSXgmixqQu",
        "colab_type": "code",
        "outputId": "062b4e59-ca72-490b-b64d-1a5c3ee79ad5",
        "colab": {
          "base_uri": "https://localhost:8080/",
          "height": 158
        }
      },
      "source": [
        "# Round to get the actual predictions\n",
        "# Note: has to be flattened since the targets are size (N,1)\n",
        "import numpy as np\n",
        "p = np.round(p).flatten()\n",
        "print(p)"
      ],
      "execution_count": 0,
      "outputs": [
        {
          "output_type": "stream",
          "text": [
            "[1. 1. 0. 0. 1. 1. 1. 1. 0. 1. 0. 1. 0. 1. 0. 0. 1. 1. 0. 1. 1. 1. 1. 1.\n",
            " 0. 0. 0. 1. 1. 1. 1. 1. 0. 1. 1. 0. 1. 1. 0. 1. 1. 1. 1. 0. 0. 0. 1. 0.\n",
            " 1. 1. 0. 1. 0. 1. 1. 0. 1. 1. 1. 1. 1. 1. 1. 1. 1. 0. 1. 1. 1. 1. 1. 1.\n",
            " 0. 1. 0. 1. 1. 1. 1. 1. 1. 1. 1. 1. 0. 0. 1. 1. 0. 1. 1. 1. 1. 1. 1. 0.\n",
            " 0. 1. 0. 1. 1. 1. 1. 0. 1. 1. 1. 1. 1. 0. 0. 1. 0. 1. 0. 0. 0. 1. 1. 0.\n",
            " 1. 0. 1. 0. 0. 1. 1. 1. 1. 1. 0. 0. 0. 0. 1. 1. 1. 1. 0. 0. 1. 1. 0. 0.\n",
            " 1. 0. 0. 1. 1. 0. 1. 1. 1. 0. 1. 1. 1. 0. 1. 0. 1. 1. 1. 1. 0. 1. 0. 0.\n",
            " 0. 1. 0. 0. 1. 0. 1. 1. 1. 1. 1. 0. 1. 1. 0. 0. 0. 1. 1. 0.]\n"
          ],
          "name": "stdout"
        }
      ]
    },
    {
      "cell_type": "code",
      "metadata": {
        "id": "oFkRfkzhxqUf",
        "colab_type": "code",
        "outputId": "3714fe8d-9bb9-4ecf-b1de-0774685c5e5f",
        "colab": {
          "base_uri": "https://localhost:8080/",
          "height": 90
        }
      },
      "source": [
        "# Calculate the accuracy, compare it to evaluate() output\n",
        "print('Mannually calculated accuracy', np.mean(p == y_test))\n",
        "print('Evaluate output:', model.evaluate(X_test, y_test))"
      ],
      "execution_count": 0,
      "outputs": [
        {
          "output_type": "stream",
          "text": [
            "Mannually calculated accuracy 0.9627659574468085\n",
            "6/6 [==============================] - 0s 1ms/step - loss: 0.1266 - accuracy: 0.9628\n",
            "Evaluate output: [0.1265822947025299, 0.9627659320831299]\n"
          ],
          "name": "stdout"
        }
      ]
    },
    {
      "cell_type": "markdown",
      "metadata": {
        "id": "PksSZ3xbYaxY",
        "colab_type": "text"
      },
      "source": [
        "# **Performs the Linear Classification**\n",
        "\n",
        "1) load in the data(X and Y) - may involve transforming data\n",
        "\n",
        "2) Intantiate the model\n",
        "\n",
        "3) Train fit the model\n",
        "\n",
        "4) Evaluate the model\n",
        "\n"
      ]
    },
    {
      "cell_type": "code",
      "metadata": {
        "id": "Hd_R8SRhAKMn",
        "colab_type": "code",
        "colab": {}
      },
      "source": [
        "# other imports \n",
        "import pandas as pd\n",
        "import numpy as np\n",
        "import matplotlib.pyplot as plt"
      ],
      "execution_count": 0,
      "outputs": []
    },
    {
      "cell_type": "code",
      "metadata": {
        "id": "L3-oS26jaZMK",
        "colab_type": "code",
        "outputId": "049567d2-43df-4b76-8981-30eb236cff24",
        "colab": {
          "resources": {
            "http://localhost:8080/nbextensions/google.colab/files.js": {
              "data": "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",
              "ok": true,
              "headers": [
                [
                  "content-type",
                  "application/javascript"
                ]
              ],
              "status": 200,
              "status_text": ""
            }
          },
          "base_uri": "https://localhost:8080/",
          "height": 75
        }
      },
      "source": [
        "# Get the data\n",
        "from google.colab import files\n",
        "uploaded = files.upload()"
      ],
      "execution_count": 0,
      "outputs": [
        {
          "output_type": "display_data",
          "data": {
            "text/html": [
              "\n",
              "     <input type=\"file\" id=\"files-67641843-f3d3-4e41-af8d-61a0ee876c92\" name=\"files[]\" multiple disabled />\n",
              "     <output id=\"result-67641843-f3d3-4e41-af8d-61a0ee876c92\">\n",
              "      Upload widget is only available when the cell has been executed in the\n",
              "      current browser session. Please rerun this cell to enable.\n",
              "      </output>\n",
              "      <script src=\"/nbextensions/google.colab/files.js\"></script> "
            ],
            "text/plain": [
              "<IPython.core.display.HTML object>"
            ]
          },
          "metadata": {
            "tags": []
          }
        },
        {
          "output_type": "stream",
          "text": [
            "Saving moore.csv to moore (1).csv\n"
          ],
          "name": "stdout"
        }
      ]
    },
    {
      "cell_type": "code",
      "metadata": {
        "id": "0bXytfOraZQ-",
        "colab_type": "code",
        "colab": {}
      },
      "source": [
        "# Load in the data\n",
        "import io\n",
        "data = pd.read_csv(io.BytesIO(uploaded[\"moore.csv\"]), index_col=0).reset_index().values\n",
        "X = data[:,0].reshape(-1, 1) # make it a two D array of size N x D where D=1\n",
        "Y = data[:,1]"
      ],
      "execution_count": 0,
      "outputs": []
    },
    {
      "cell_type": "code",
      "metadata": {
        "id": "szY8dcnPaZJR",
        "colab_type": "code",
        "outputId": "d3abbeba-b3fc-4a25-8784-be90f256add5",
        "colab": {
          "base_uri": "https://localhost:8080/",
          "height": 293
        }
      },
      "source": [
        "# Plot the data - it is exponential!\n",
        "plt.scatter(X, Y) "
      ],
      "execution_count": 0,
      "outputs": [
        {
          "output_type": "execute_result",
          "data": {
            "text/plain": [
              "<matplotlib.collections.PathCollection at 0x7fc9e4c0db70>"
            ]
          },
          "metadata": {
            "tags": []
          },
          "execution_count": 26
        },
        {
          "output_type": "display_data",
          "data": {
            "image/png": "[encoded data removed]",
            "text/plain": [
              "<Figure size 432x288 with 1 Axes>"
            ]
          },
          "metadata": {
            "tags": [],
            "needs_background": "light"
          }
        }
      ]
    },
    {
      "cell_type": "code",
      "metadata": {
        "id": "T7OKM7Quj5xr",
        "colab_type": "code",
        "outputId": "b262c9f0-b284-4e6e-815c-b94a4d701bc5",
        "colab": {
          "base_uri": "https://localhost:8080/",
          "height": 282
        }
      },
      "source": [
        "# Since we want a linear model, let's take the log\n",
        "Y = np.log(Y)\n",
        "plt.scatter(X, Y)\n",
        "# that's better"
      ],
      "execution_count": 0,
      "outputs": [
        {
          "output_type": "execute_result",
          "data": {
            "text/plain": [
              "<matplotlib.collections.PathCollection at 0x7fc9df0c9e48>"
            ]
          },
          "metadata": {
            "tags": []
          },
          "execution_count": 28
        },
        {
          "output_type": "display_data",
          "data": {
            "image/png": "[encoded data removed]",
            "text/plain": [
              "<Figure size 432x288 with 1 Axes>"
            ]
          },
          "metadata": {
            "tags": [],
            "needs_background": "light"
          }
        }
      ]
    },
    {
      "cell_type": "code",
      "metadata": {
        "id": "m_VUN92xkHRg",
        "colab_type": "code",
        "colab": {}
      },
      "source": [
        "# Let's also center the X data so the values are not too large\n",
        "# We could scale it too but we'd have to reserve the transformation later\n",
        "X = X - X.mean()"
      ],
      "execution_count": 0,
      "outputs": []
    },
    {
      "cell_type": "code",
      "metadata": {
        "id": "DhpE2B7okpM9",
        "colab_type": "code",
        "outputId": "d109fc5b-825c-4e34-d0be-c4001bb16bc1",
        "colab": {
          "base_uri": "https://localhost:8080/",
          "height": 1000
        }
      },
      "source": [
        "# Now create our Tesoflow model\n",
        "model = tf.keras.models.Sequential([\n",
        "    tf.keras.layers.Input(shape=(1,)),\n",
        "    tf.keras.layers.Dense(1)\n",
        "])\n",
        "\n",
        "model.compile(optimizer=tf.keras.optimizers.SGD(0.001, 0.9), loss='mse')\n",
        "# model.compile(optimizer='adam, loss='mse')\n",
        "\n",
        "# learning rate scheuler\n",
        "def schedule(epoch, lr):\n",
        "  if epoch >= 50:\n",
        "    return 0.0001\n",
        "  return 0.001\n",
        "\n",
        "schedule = tf.keras.callbacks.LearningRateScheduler(schedule)\n",
        "\n",
        "# Train the model\n",
        "r = model.fit(X, Y, epochs=200, callbacks=(schedule))"
      ],
      "execution_count": 0,
      "outputs": [
        {
          "output_type": "stream",
          "text": [
            "Epoch 1/200\n",
            "6/6 [==============================] - 0s 2ms/step - loss: 75.1870 - lr: 0.0010\n",
            "Epoch 2/200\n",
            "6/6 [==============================] - 0s 1ms/step - loss: 107.5560 - lr: 0.0010\n",
            "Epoch 3/200\n",
            "6/6 [==============================] - 0s 1ms/step - loss: 75.8903 - lr: 0.0010\n",
            "Epoch 4/200\n",
            "6/6 [==============================] - 0s 1ms/step - loss: 69.0912 - lr: 0.0010\n",
            "Epoch 5/200\n",
            "6/6 [==============================] - 0s 1ms/step - loss: 54.5074 - lr: 0.0010\n",
            "Epoch 6/200\n",
            "6/6 [==============================] - 0s 1ms/step - loss: 40.3850 - lr: 0.0010\n",
            "Epoch 7/200\n",
            "6/6 [==============================] - 0s 2ms/step - loss: 23.2082 - lr: 0.0010\n",
            "Epoch 8/200\n",
            "6/6 [==============================] - 0s 1ms/step - loss: 12.0134 - lr: 0.0010\n",
            "Epoch 9/200\n",
            "6/6 [==============================] - 0s 1ms/step - loss: 12.1879 - lr: 0.0010\n",
            "Epoch 10/200\n",
            "6/6 [==============================] - 0s 1ms/step - loss: 8.1160 - lr: 0.0010\n",
            "Epoch 11/200\n",
            "6/6 [==============================] - 0s 1ms/step - loss: 3.7387 - lr: 0.0010\n",
            "Epoch 12/200\n",
            "6/6 [==============================] - 0s 1ms/step - loss: 2.4015 - lr: 0.0010\n",
            "Epoch 13/200\n",
            "6/6 [==============================] - 0s 1ms/step - loss: 1.6867 - lr: 0.0010\n",
            "Epoch 14/200\n",
            "6/6 [==============================] - 0s 1ms/step - loss: 1.0137 - lr: 0.0010\n",
            "Epoch 15/200\n",
            "6/6 [==============================] - 0s 1ms/step - loss: 0.3694 - lr: 0.0010\n",
            "Epoch 16/200\n",
            "6/6 [==============================] - 0s 1ms/step - loss: 0.4007 - lr: 0.0010\n",
            "Epoch 17/200\n",
            "6/6 [==============================] - 0s 1ms/step - loss: 0.2807 - lr: 0.0010\n",
            "Epoch 18/200\n",
            "6/6 [==============================] - 0s 2ms/step - loss: 0.2391 - lr: 0.0010\n",
            "Epoch 19/200\n",
            "6/6 [==============================] - 0s 2ms/step - loss: 0.1340 - lr: 0.0010\n",
            "Epoch 20/200\n",
            "6/6 [==============================] - 0s 1ms/step - loss: 0.0709 - lr: 0.0010\n",
            "Epoch 21/200\n",
            "6/6 [==============================] - 0s 1ms/step - loss: 0.0615 - lr: 0.0010\n",
            "Epoch 22/200\n",
            "6/6 [==============================] - 0s 1ms/step - loss: 0.0380 - lr: 0.0010\n",
            "Epoch 23/200\n",
            "6/6 [==============================] - 0s 2ms/step - loss: 0.0240 - lr: 0.0010\n",
            "Epoch 24/200\n",
            "6/6 [==============================] - 0s 1ms/step - loss: 0.0242 - lr: 0.0010\n",
            "Epoch 25/200\n",
            "6/6 [==============================] - 0s 2ms/step - loss: 0.0171 - lr: 0.0010\n",
            "Epoch 26/200\n",
            "6/6 [==============================] - 0s 1ms/step - loss: 0.0113 - lr: 0.0010\n",
            "Epoch 27/200\n",
            "6/6 [==============================] - 0s 1ms/step - loss: 0.0093 - lr: 0.0010\n",
            "Epoch 28/200\n",
            "6/6 [==============================] - 0s 1ms/step - loss: 0.0101 - lr: 0.0010\n",
            "Epoch 29/200\n",
            "6/6 [==============================] - 0s 1ms/step - loss: 0.0103 - lr: 0.0010\n",
            "Epoch 30/200\n",
            "6/6 [==============================] - 0s 2ms/step - loss: 0.0106 - lr: 0.0010\n",
            "Epoch 31/200\n",
            "6/6 [==============================] - 0s 2ms/step - loss: 0.0097 - lr: 0.0010\n",
            "Epoch 32/200\n",
            "6/6 [==============================] - 0s 1ms/step - loss: 0.0089 - lr: 0.0010\n",
            "Epoch 33/200\n",
            "6/6 [==============================] - 0s 2ms/step - loss: 0.0098 - lr: 0.0010\n",
            "Epoch 34/200\n",
            "6/6 [==============================] - 0s 2ms/step - loss: 0.0077 - lr: 0.0010\n",
            "Epoch 35/200\n",
            "6/6 [==============================] - 0s 2ms/step - loss: 0.0062 - lr: 0.0010\n",
            "Epoch 36/200\n",
            "6/6 [==============================] - 0s 1ms/step - loss: 0.0060 - lr: 0.0010\n",
            "Epoch 37/200\n",
            "6/6 [==============================] - 0s 2ms/step - loss: 0.0131 - lr: 0.0010\n",
            "Epoch 38/200\n",
            "6/6 [==============================] - 0s 2ms/step - loss: 0.0123 - lr: 0.0010\n",
            "Epoch 39/200\n",
            "6/6 [==============================] - 0s 2ms/step - loss: 0.0120 - lr: 0.0010\n",
            "Epoch 40/200\n",
            "6/6 [==============================] - 0s 1ms/step - loss: 0.0077 - lr: 0.0010\n",
            "Epoch 41/200\n",
            "6/6 [==============================] - 0s 2ms/step - loss: 0.0079 - lr: 0.0010\n",
            "Epoch 42/200\n",
            "6/6 [==============================] - 0s 2ms/step - loss: 0.0071 - lr: 0.0010\n",
            "Epoch 43/200\n",
            "6/6 [==============================] - 0s 1ms/step - loss: 0.0062 - lr: 0.0010\n",
            "Epoch 44/200\n",
            "6/6 [==============================] - 0s 1ms/step - loss: 0.0056 - lr: 0.0010\n",
            "Epoch 45/200\n",
            "6/6 [==============================] - 0s 1ms/step - loss: 0.0054 - lr: 0.0010\n",
            "Epoch 46/200\n",
            "6/6 [==============================] - 0s 2ms/step - loss: 0.0053 - lr: 0.0010\n",
            "Epoch 47/200\n",
            "6/6 [==============================] - 0s 1ms/step - loss: 0.0059 - lr: 0.0010\n",
            "Epoch 48/200\n",
            "6/6 [==============================] - 0s 2ms/step - loss: 0.0070 - lr: 0.0010\n",
            "Epoch 49/200\n",
            "6/6 [==============================] - 0s 1ms/step - loss: 0.0101 - lr: 0.0010\n",
            "Epoch 50/200\n",
            "6/6 [==============================] - 0s 2ms/step - loss: 0.0085 - lr: 0.0010\n",
            "Epoch 51/200\n",
            "6/6 [==============================] - 0s 1ms/step - loss: 0.0076 - lr: 1.0000e-04\n",
            "Epoch 52/200\n",
            "6/6 [==============================] - 0s 2ms/step - loss: 0.0057 - lr: 1.0000e-04\n",
            "Epoch 53/200\n",
            "6/6 [==============================] - 0s 1ms/step - loss: 0.0053 - lr: 1.0000e-04\n",
            "Epoch 54/200\n",
            "6/6 [==============================] - 0s 1ms/step - loss: 0.0056 - lr: 1.0000e-04\n",
            "Epoch 55/200\n",
            "6/6 [==============================] - 0s 1ms/step - loss: 0.0058 - lr: 1.0000e-04\n",
            "Epoch 56/200\n",
            "6/6 [==============================] - 0s 1ms/step - loss: 0.0053 - lr: 1.0000e-04\n",
            "Epoch 57/200\n",
            "6/6 [==============================] - 0s 1ms/step - loss: 0.0055 - lr: 1.0000e-04\n",
            "Epoch 58/200\n",
            "6/6 [==============================] - 0s 1ms/step - loss: 0.0055 - lr: 1.0000e-04\n",
            "Epoch 59/200\n",
            "6/6 [==============================] - 0s 1ms/step - loss: 0.0053 - lr: 1.0000e-04\n",
            "Epoch 60/200\n",
            "6/6 [==============================] - 0s 1ms/step - loss: 0.0053 - lr: 1.0000e-04\n",
            "Epoch 61/200\n",
            "6/6 [==============================] - 0s 1ms/step - loss: 0.0053 - lr: 1.0000e-04\n",
            "Epoch 62/200\n",
            "6/6 [==============================] - 0s 1ms/step - loss: 0.0060 - lr: 1.0000e-04\n",
            "Epoch 63/200\n",
            "6/6 [==============================] - 0s 2ms/step - loss: 0.0057 - lr: 1.0000e-04\n",
            "Epoch 64/200\n",
            "6/6 [==============================] - 0s 1ms/step - loss: 0.0053 - lr: 1.0000e-04\n",
            "Epoch 65/200\n",
            "6/6 [==============================] - 0s 1ms/step - loss: 0.0053 - lr: 1.0000e-04\n",
            "Epoch 66/200\n",
            "6/6 [==============================] - 0s 1ms/step - loss: 0.0053 - lr: 1.0000e-04\n",
            "Epoch 67/200\n",
            "6/6 [==============================] - 0s 1ms/step - loss: 0.0053 - lr: 1.0000e-04\n",
            "Epoch 68/200\n",
            "6/6 [==============================] - 0s 1ms/step - loss: 0.0056 - lr: 1.0000e-04\n",
            "Epoch 69/200\n",
            "6/6 [==============================] - 0s 1ms/step - loss: 0.0062 - lr: 1.0000e-04\n",
            "Epoch 70/200\n",
            "6/6 [==============================] - 0s 2ms/step - loss: 0.0055 - lr: 1.0000e-04\n",
            "Epoch 71/200\n",
            "6/6 [==============================] - 0s 1ms/step - loss: 0.0054 - lr: 1.0000e-04\n",
            "Epoch 72/200\n",
            "6/6 [==============================] - 0s 1ms/step - loss: 0.0054 - lr: 1.0000e-04\n",
            "Epoch 73/200\n",
            "6/6 [==============================] - 0s 2ms/step - loss: 0.0053 - lr: 1.0000e-04\n",
            "Epoch 74/200\n",
            "6/6 [==============================] - 0s 1ms/step - loss: 0.0056 - lr: 1.0000e-04\n",
            "Epoch 75/200\n",
            "6/6 [==============================] - 0s 2ms/step - loss: 0.0055 - lr: 1.0000e-04\n",
            "Epoch 76/200\n",
            "6/6 [==============================] - 0s 1ms/step - loss: 0.0056 - lr: 1.0000e-04\n",
            "Epoch 77/200\n",
            "6/6 [==============================] - 0s 1ms/step - loss: 0.0069 - lr: 1.0000e-04\n",
            "Epoch 78/200\n",
            "6/6 [==============================] - 0s 1ms/step - loss: 0.0057 - lr: 1.0000e-04\n",
            "Epoch 79/200\n",
            "6/6 [==============================] - 0s 2ms/step - loss: 0.0054 - lr: 1.0000e-04\n",
            "Epoch 80/200\n",
            "6/6 [==============================] - 0s 2ms/step - loss: 0.0056 - lr: 1.0000e-04\n",
            "Epoch 81/200\n",
            "6/6 [==============================] - 0s 1ms/step - loss: 0.0053 - lr: 1.0000e-04\n",
            "Epoch 82/200\n",
            "6/6 [==============================] - 0s 2ms/step - loss: 0.0054 - lr: 1.0000e-04\n",
            "Epoch 83/200\n",
            "6/6 [==============================] - 0s 1ms/step - loss: 0.0057 - lr: 1.0000e-04\n",
            "Epoch 84/200\n",
            "6/6 [==============================] - 0s 1ms/step - loss: 0.0056 - lr: 1.0000e-04\n",
            "Epoch 85/200\n",
            "6/6 [==============================] - 0s 1ms/step - loss: 0.0053 - lr: 1.0000e-04\n",
            "Epoch 86/200\n",
            "6/6 [==============================] - 0s 2ms/step - loss: 0.0052 - lr: 1.0000e-04\n",
            "Epoch 87/200\n",
            "6/6 [==============================] - 0s 1ms/step - loss: 0.0053 - lr: 1.0000e-04\n",
            "Epoch 88/200\n",
            "6/6 [==============================] - 0s 2ms/step - loss: 0.0053 - lr: 1.0000e-04\n",
            "Epoch 89/200\n",
            "6/6 [==============================] - 0s 1ms/step - loss: 0.0056 - lr: 1.0000e-04\n",
            "Epoch 90/200\n",
            "6/6 [==============================] - 0s 1ms/step - loss: 0.0055 - lr: 1.0000e-04\n",
            "Epoch 91/200\n",
            "6/6 [==============================] - 0s 1ms/step - loss: 0.0052 - lr: 1.0000e-04\n",
            "Epoch 92/200\n",
            "6/6 [==============================] - 0s 1ms/step - loss: 0.0053 - lr: 1.0000e-04\n",
            "Epoch 93/200\n",
            "6/6 [==============================] - 0s 1ms/step - loss: 0.0053 - lr: 1.0000e-04\n",
            "Epoch 94/200\n",
            "6/6 [==============================] - 0s 1ms/step - loss: 0.0053 - lr: 1.0000e-04\n",
            "Epoch 95/200\n",
            "6/6 [==============================] - 0s 1ms/step - loss: 0.0054 - lr: 1.0000e-04\n",
            "Epoch 96/200\n",
            "6/6 [==============================] - 0s 1ms/step - loss: 0.0055 - lr: 1.0000e-04\n",
            "Epoch 97/200\n",
            "6/6 [==============================] - 0s 1ms/step - loss: 0.0055 - lr: 1.0000e-04\n",
            "Epoch 98/200\n",
            "6/6 [==============================] - 0s 2ms/step - loss: 0.0053 - lr: 1.0000e-04\n",
            "Epoch 99/200\n",
            "6/6 [==============================] - 0s 1ms/step - loss: 0.0052 - lr: 1.0000e-04\n",
            "Epoch 100/200\n",
            "6/6 [==============================] - 0s 1ms/step - loss: 0.0053 - lr: 1.0000e-04\n",
            "Epoch 101/200\n",
            "6/6 [==============================] - 0s 1ms/step - loss: 0.0053 - lr: 1.0000e-04\n",
            "Epoch 102/200\n",
            "6/6 [==============================] - 0s 1ms/step - loss: 0.0053 - lr: 1.0000e-04\n",
            "Epoch 103/200\n",
            "6/6 [==============================] - 0s 1ms/step - loss: 0.0053 - lr: 1.0000e-04\n",
            "Epoch 104/200\n",
            "6/6 [==============================] - 0s 1ms/step - loss: 0.0052 - lr: 1.0000e-04\n",
            "Epoch 105/200\n",
            "6/6 [==============================] - 0s 2ms/step - loss: 0.0053 - lr: 1.0000e-04\n",
            "Epoch 106/200\n",
            "6/6 [==============================] - 0s 2ms/step - loss: 0.0052 - lr: 1.0000e-04\n",
            "Epoch 107/200\n",
            "6/6 [==============================] - 0s 2ms/step - loss: 0.0054 - lr: 1.0000e-04\n",
            "Epoch 108/200\n",
            "6/6 [==============================] - 0s 2ms/step - loss: 0.0056 - lr: 1.0000e-04\n",
            "Epoch 109/200\n",
            "6/6 [==============================] - 0s 2ms/step - loss: 0.0054 - lr: 1.0000e-04\n",
            "Epoch 110/200\n",
            "6/6 [==============================] - 0s 2ms/step - loss: 0.0054 - lr: 1.0000e-04\n",
            "Epoch 111/200\n",
            "6/6 [==============================] - 0s 2ms/step - loss: 0.0059 - lr: 1.0000e-04\n",
            "Epoch 112/200\n",
            "6/6 [==============================] - 0s 1ms/step - loss: 0.0070 - lr: 1.0000e-04\n",
            "Epoch 113/200\n",
            "6/6 [==============================] - 0s 1ms/step - loss: 0.0057 - lr: 1.0000e-04\n",
            "Epoch 114/200\n",
            "6/6 [==============================] - 0s 1ms/step - loss: 0.0053 - lr: 1.0000e-04\n",
            "Epoch 115/200\n",
            "6/6 [==============================] - 0s 1ms/step - loss: 0.0056 - lr: 1.0000e-04\n",
            "Epoch 116/200\n",
            "6/6 [==============================] - 0s 1ms/step - loss: 0.0057 - lr: 1.0000e-04\n",
            "Epoch 117/200\n",
            "6/6 [==============================] - 0s 2ms/step - loss: 0.0054 - lr: 1.0000e-04\n",
            "Epoch 118/200\n",
            "6/6 [==============================] - 0s 2ms/step - loss: 0.0052 - lr: 1.0000e-04\n",
            "Epoch 119/200\n",
            "6/6 [==============================] - 0s 2ms/step - loss: 0.0053 - lr: 1.0000e-04\n",
            "Epoch 120/200\n",
            "6/6 [==============================] - 0s 1ms/step - loss: 0.0053 - lr: 1.0000e-04\n",
            "Epoch 121/200\n",
            "6/6 [==============================] - 0s 1ms/step - loss: 0.0053 - lr: 1.0000e-04\n",
            "Epoch 122/200\n",
            "6/6 [==============================] - 0s 2ms/step - loss: 0.0054 - lr: 1.0000e-04\n",
            "Epoch 123/200\n",
            "6/6 [==============================] - 0s 1ms/step - loss: 0.0056 - lr: 1.0000e-04\n",
            "Epoch 124/200\n",
            "6/6 [==============================] - 0s 1ms/step - loss: 0.0054 - lr: 1.0000e-04\n",
            "Epoch 125/200\n",
            "6/6 [==============================] - 0s 1ms/step - loss: 0.0052 - lr: 1.0000e-04\n",
            "Epoch 126/200\n",
            "6/6 [==============================] - 0s 1ms/step - loss: 0.0055 - lr: 1.0000e-04\n",
            "Epoch 127/200\n",
            "6/6 [==============================] - 0s 1ms/step - loss: 0.0055 - lr: 1.0000e-04\n",
            "Epoch 128/200\n",
            "6/6 [==============================] - 0s 2ms/step - loss: 0.0054 - lr: 1.0000e-04\n",
            "Epoch 129/200\n",
            "6/6 [==============================] - 0s 1ms/step - loss: 0.0060 - lr: 1.0000e-04\n",
            "Epoch 130/200\n",
            "6/6 [==============================] - 0s 1ms/step - loss: 0.0055 - lr: 1.0000e-04\n",
            "Epoch 131/200\n",
            "6/6 [==============================] - 0s 1ms/step - loss: 0.0058 - lr: 1.0000e-04\n",
            "Epoch 132/200\n",
            "6/6 [==============================] - 0s 2ms/step - loss: 0.0054 - lr: 1.0000e-04\n",
            "Epoch 133/200\n",
            "6/6 [==============================] - 0s 2ms/step - loss: 0.0052 - lr: 1.0000e-04\n",
            "Epoch 134/200\n",
            "6/6 [==============================] - 0s 2ms/step - loss: 0.0054 - lr: 1.0000e-04\n",
            "Epoch 135/200\n",
            "6/6 [==============================] - 0s 1ms/step - loss: 0.0053 - lr: 1.0000e-04\n",
            "Epoch 136/200\n",
            "6/6 [==============================] - 0s 1ms/step - loss: 0.0052 - lr: 1.0000e-04\n",
            "Epoch 137/200\n",
            "6/6 [==============================] - 0s 2ms/step - loss: 0.0053 - lr: 1.0000e-04\n",
            "Epoch 138/200\n",
            "6/6 [==============================] - 0s 2ms/step - loss: 0.0053 - lr: 1.0000e-04\n",
            "Epoch 139/200\n",
            "6/6 [==============================] - 0s 1ms/step - loss: 0.0056 - lr: 1.0000e-04\n",
            "Epoch 140/200\n",
            "6/6 [==============================] - 0s 2ms/step - loss: 0.0063 - lr: 1.0000e-04\n",
            "Epoch 141/200\n",
            "6/6 [==============================] - 0s 2ms/step - loss: 0.0055 - lr: 1.0000e-04\n",
            "Epoch 142/200\n",
            "6/6 [==============================] - 0s 2ms/step - loss: 0.0055 - lr: 1.0000e-04\n",
            "Epoch 143/200\n",
            "6/6 [==============================] - 0s 1ms/step - loss: 0.0060 - lr: 1.0000e-04\n",
            "Epoch 144/200\n",
            "6/6 [==============================] - 0s 2ms/step - loss: 0.0054 - lr: 1.0000e-04\n",
            "Epoch 145/200\n",
            "6/6 [==============================] - 0s 1ms/step - loss: 0.0054 - lr: 1.0000e-04\n",
            "Epoch 146/200\n",
            "6/6 [==============================] - 0s 1ms/step - loss: 0.0055 - lr: 1.0000e-04\n",
            "Epoch 147/200\n",
            "6/6 [==============================] - 0s 2ms/step - loss: 0.0053 - lr: 1.0000e-04\n",
            "Epoch 148/200\n",
            "6/6 [==============================] - 0s 1ms/step - loss: 0.0055 - lr: 1.0000e-04\n",
            "Epoch 149/200\n",
            "6/6 [==============================] - 0s 1ms/step - loss: 0.0053 - lr: 1.0000e-04\n",
            "Epoch 150/200\n",
            "6/6 [==============================] - 0s 1ms/step - loss: 0.0060 - lr: 1.0000e-04\n",
            "Epoch 151/200\n",
            "6/6 [==============================] - 0s 2ms/step - loss: 0.0066 - lr: 1.0000e-04\n",
            "Epoch 152/200\n",
            "6/6 [==============================] - 0s 1ms/step - loss: 0.0055 - lr: 1.0000e-04\n",
            "Epoch 153/200\n",
            "6/6 [==============================] - 0s 1ms/step - loss: 0.0054 - lr: 1.0000e-04\n",
            "Epoch 154/200\n",
            "6/6 [==============================] - 0s 1ms/step - loss: 0.0055 - lr: 1.0000e-04\n",
            "Epoch 155/200\n",
            "6/6 [==============================] - 0s 1ms/step - loss: 0.0053 - lr: 1.0000e-04\n",
            "Epoch 156/200\n",
            "6/6 [==============================] - 0s 1ms/step - loss: 0.0053 - lr: 1.0000e-04\n",
            "Epoch 157/200\n",
            "6/6 [==============================] - 0s 1ms/step - loss: 0.0053 - lr: 1.0000e-04\n",
            "Epoch 158/200\n",
            "6/6 [==============================] - 0s 1ms/step - loss: 0.0053 - lr: 1.0000e-04\n",
            "Epoch 159/200\n",
            "6/6 [==============================] - 0s 1ms/step - loss: 0.0052 - lr: 1.0000e-04\n",
            "Epoch 160/200\n",
            "6/6 [==============================] - 0s 2ms/step - loss: 0.0052 - lr: 1.0000e-04\n",
            "Epoch 161/200\n",
            "6/6 [==============================] - 0s 1ms/step - loss: 0.0052 - lr: 1.0000e-04\n",
            "Epoch 162/200\n",
            "6/6 [==============================] - 0s 2ms/step - loss: 0.0052 - lr: 1.0000e-04\n",
            "Epoch 163/200\n",
            "6/6 [==============================] - 0s 2ms/step - loss: 0.0054 - lr: 1.0000e-04\n",
            "Epoch 164/200\n",
            "6/6 [==============================] - 0s 1ms/step - loss: 0.0054 - lr: 1.0000e-04\n",
            "Epoch 165/200\n",
            "6/6 [==============================] - 0s 1ms/step - loss: 0.0052 - lr: 1.0000e-04\n",
            "Epoch 166/200\n",
            "6/6 [==============================] - 0s 1ms/step - loss: 0.0053 - lr: 1.0000e-04\n",
            "Epoch 167/200\n",
            "6/6 [==============================] - 0s 1ms/step - loss: 0.0053 - lr: 1.0000e-04\n",
            "Epoch 168/200\n",
            "6/6 [==============================] - 0s 1ms/step - loss: 0.0053 - lr: 1.0000e-04\n",
            "Epoch 169/200\n",
            "6/6 [==============================] - 0s 1ms/step - loss: 0.0052 - lr: 1.0000e-04\n",
            "Epoch 170/200\n",
            "6/6 [==============================] - 0s 1ms/step - loss: 0.0053 - lr: 1.0000e-04\n",
            "Epoch 171/200\n",
            "6/6 [==============================] - 0s 1ms/step - loss: 0.0053 - lr: 1.0000e-04\n",
            "Epoch 172/200\n",
            "6/6 [==============================] - 0s 1ms/step - loss: 0.0052 - lr: 1.0000e-04\n",
            "Epoch 173/200\n",
            "6/6 [==============================] - 0s 1ms/step - loss: 0.0055 - lr: 1.0000e-04\n",
            "Epoch 174/200\n",
            "6/6 [==============================] - 0s 1ms/step - loss: 0.0060 - lr: 1.0000e-04\n",
            "Epoch 175/200\n",
            "6/6 [==============================] - 0s 1ms/step - loss: 0.0063 - lr: 1.0000e-04\n",
            "Epoch 176/200\n",
            "6/6 [==============================] - 0s 2ms/step - loss: 0.0054 - lr: 1.0000e-04\n",
            "Epoch 177/200\n",
            "6/6 [==============================] - 0s 2ms/step - loss: 0.0054 - lr: 1.0000e-04\n",
            "Epoch 178/200\n",
            "6/6 [==============================] - 0s 1ms/step - loss: 0.0055 - lr: 1.0000e-04\n",
            "Epoch 179/200\n",
            "6/6 [==============================] - 0s 1ms/step - loss: 0.0056 - lr: 1.0000e-04\n",
            "Epoch 180/200\n",
            "6/6 [==============================] - 0s 2ms/step - loss: 0.0060 - lr: 1.0000e-04\n",
            "Epoch 181/200\n",
            "6/6 [==============================] - 0s 1ms/step - loss: 0.0058 - lr: 1.0000e-04\n",
            "Epoch 182/200\n",
            "6/6 [==============================] - 0s 2ms/step - loss: 0.0055 - lr: 1.0000e-04\n",
            "Epoch 183/200\n",
            "6/6 [==============================] - 0s 1ms/step - loss: 0.0053 - lr: 1.0000e-04\n",
            "Epoch 184/200\n",
            "6/6 [==============================] - 0s 1ms/step - loss: 0.0056 - lr: 1.0000e-04\n",
            "Epoch 185/200\n",
            "6/6 [==============================] - 0s 2ms/step - loss: 0.0055 - lr: 1.0000e-04\n",
            "Epoch 186/200\n",
            "6/6 [==============================] - 0s 1ms/step - loss: 0.0056 - lr: 1.0000e-04\n",
            "Epoch 187/200\n",
            "6/6 [==============================] - 0s 2ms/step - loss: 0.0054 - lr: 1.0000e-04\n",
            "Epoch 188/200\n",
            "6/6 [==============================] - 0s 1ms/step - loss: 0.0054 - lr: 1.0000e-04\n",
            "Epoch 189/200\n",
            "6/6 [==============================] - 0s 1ms/step - loss: 0.0055 - lr: 1.0000e-04\n",
            "Epoch 190/200\n",
            "6/6 [==============================] - 0s 1ms/step - loss: 0.0054 - lr: 1.0000e-04\n",
            "Epoch 191/200\n",
            "6/6 [==============================] - 0s 1ms/step - loss: 0.0053 - lr: 1.0000e-04\n",
            "Epoch 192/200\n",
            "6/6 [==============================] - 0s 1ms/step - loss: 0.0053 - lr: 1.0000e-04\n",
            "Epoch 193/200\n",
            "6/6 [==============================] - 0s 1ms/step - loss: 0.0052 - lr: 1.0000e-04\n",
            "Epoch 194/200\n",
            "6/6 [==============================] - 0s 1ms/step - loss: 0.0053 - lr: 1.0000e-04\n",
            "Epoch 195/200\n",
            "6/6 [==============================] - 0s 1ms/step - loss: 0.0054 - lr: 1.0000e-04\n",
            "Epoch 196/200\n",
            "6/6 [==============================] - 0s 2ms/step - loss: 0.0053 - lr: 1.0000e-04\n",
            "Epoch 197/200\n",
            "6/6 [==============================] - 0s 2ms/step - loss: 0.0052 - lr: 1.0000e-04\n",
            "Epoch 198/200\n",
            "6/6 [==============================] - 0s 2ms/step - loss: 0.0053 - lr: 1.0000e-04\n",
            "Epoch 199/200\n",
            "6/6 [==============================] - 0s 1ms/step - loss: 0.0052 - lr: 1.0000e-04\n",
            "Epoch 200/200\n",
            "6/6 [==============================] - 0s 1ms/step - loss: 0.0053 - lr: 1.0000e-04\n"
          ],
          "name": "stdout"
        }
      ]
    },
    {
      "cell_type": "code",
      "metadata": {
        "id": "04zwX7W7mZKV",
        "colab_type": "code",
        "outputId": "9701c888-4131-4a66-e323-e43f4601cb9e",
        "colab": {
          "base_uri": "https://localhost:8080/",
          "height": 282
        }
      },
      "source": [
        "# Plot the loss\n",
        "plt.plot(r.history['loss'], label='loss')"
      ],
      "execution_count": 0,
      "outputs": [
        {
          "output_type": "execute_result",
          "data": {
            "text/plain": [
              "[<matplotlib.lines.Line2D at 0x7fc9d5447320>]"
            ]
          },
          "metadata": {
            "tags": []
          },
          "execution_count": 31
        },
        {
          "output_type": "display_data",
          "data": {
            "image/png": "[encoded data removed]",
            "text/plain": [
              "<Figure size 432x288 with 1 Axes>"
            ]
          },
          "metadata": {
            "tags": [],
            "needs_background": "light"
          }
        }
      ]
    },
    {
      "cell_type": "code",
      "metadata": {
        "id": "3yANcRTmnZqY",
        "colab_type": "code",
        "outputId": "493f2784-fff3-4f78-886a-eadd88ab807b",
        "colab": {
          "base_uri": "https://localhost:8080/",
          "height": 52
        }
      },
      "source": [
        "# Get the slope of the line\n",
        "# The slope of the line is related to the doubling rate of transistor count\n",
        "print(model.layers) # Note: there is only 1 layer, the 'Input' layer doesn't count\n",
        "print(model.layers[0].get_weights())"
      ],
      "execution_count": 0,
      "outputs": [
        {
          "output_type": "stream",
          "text": [
            "[<tensorflow.python.keras.layers.core.Dense object at 0x7fc9de5b31d0>]\n",
            "[array([[0.02256851]], dtype=float32), array([2.8371556], dtype=float32)]\n"
          ],
          "name": "stdout"
        }
      ]
    },
    {
      "cell_type": "code",
      "metadata": {
        "id": "hjJDsHPWn_dv",
        "colab_type": "code",
        "colab": {}
      },
      "source": [
        "# The slope of the line is:\n",
        "a = model.layers[0].get_weights()[0][0,0]"
      ],
      "execution_count": 0,
      "outputs": []
    },
    {
      "cell_type": "code",
      "metadata": {
        "id": "pgT4mSVBw41Y",
        "colab_type": "code",
        "colab": {}
      },
      "source": [
        ""
      ],
      "execution_count": 0,
      "outputs": []
    }
  ]
}